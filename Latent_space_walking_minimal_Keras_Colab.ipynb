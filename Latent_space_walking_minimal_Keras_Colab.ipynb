{
  "nbformat": 4,
  "nbformat_minor": 0,
  "metadata": {
    "colab": {
      "provenance": [],
      "collapsed_sections": [],
      "include_colab_link": true
    },
    "kernelspec": {
      "name": "python3",
      "display_name": "Python 3"
    },
    "language_info": {
      "name": "python"
    },
    "accelerator": "GPU",
    "gpuClass": "premium"
  },
  "cells": [
    {
      "cell_type": "markdown",
      "metadata": {
        "id": "view-in-github",
        "colab_type": "text"
      },
      "source": [
        "<a href=\"https://colab.research.google.com/github/sumandas0/colab_repos/blob/main/Latent_space_walking_minimal_Keras_Colab.ipynb\" target=\"_parent\"><img src=\"https://colab.research.google.com/assets/colab-badge.svg\" alt=\"Open In Colab\"/></a>"
      ]
    },
    {
      "cell_type": "markdown",
      "source": [
        "## Minimal KerasCV notebook for latent space walking via prompt interpolation\n",
        "\n",
        "Let's start by installing what we need."
      ],
      "metadata": {
        "id": "BqI1JSgJAMMT"
      }
    },
    {
      "cell_type": "code",
      "source": [
        "!pip install tensorflow keras_cv --upgrade --quiet\n",
        "!apt install --allow-change-held-packages libcudnn8=8.1.0.77-1+cuda11.2"
      ],
      "metadata": {
        "id": "drOxP4tp_O_-"
      },
      "execution_count": null,
      "outputs": []
    },
    {
      "cell_type": "code",
      "source": [
        "import keras_cv\n",
        "from tensorflow import keras\n",
        "import matplotlib.pyplot as plt\n",
        "import tensorflow as tf\n",
        "import numpy as np\n",
        "from PIL import Image\n",
        "\n",
        "# Enable mixed precision\n",
        "# (only do this if you have a recent NVIDIA GPU)\n",
        "keras.mixed_precision.set_global_policy(\"mixed_float16\")\n",
        "\n",
        "# Instantiate the Stable Diffusion model\n",
        "model = keras_cv.models.StableDiffusion(img_height=512, img_width=512, jit_compile=True)"
      ],
      "metadata": {
        "colab": {
          "base_uri": "https://localhost:8080/"
        },
        "id": "E65tu6ks_PhJ",
        "outputId": "87b32009-ac2d-477e-d803-f5a23e5fd824"
      },
      "execution_count": null,
      "outputs": [
        {
          "output_type": "stream",
          "name": "stdout",
          "text": [
            "By using this model checkpoint, you acknowledge that its usage is subject to the terms of the CreativeML Open RAIL-M license at https://raw.githubusercontent.com/CompVis/stable-diffusion/main/LICENSE\n"
          ]
        }
      ]
    },
    {
      "cell_type": "markdown",
      "source": [
        "Here's a gif saving utility that will come in handy."
      ],
      "metadata": {
        "id": "UXauh8XbCUye"
      }
    },
    {
      "cell_type": "code",
      "source": [
        "def export_as_gif(filename, images, frames_per_second=13, rubber_band=False):\n",
        "    if rubber_band:\n",
        "        images += images[2:-1][::-1]\n",
        "    images[0].save(\n",
        "        filename,\n",
        "        save_all=True,\n",
        "        append_images=images[1:],\n",
        "        duration=1000 // frames_per_second,\n",
        "        loop=0,\n",
        "    )"
      ],
      "metadata": {
        "id": "MY4G3qB1_PmG"
      },
      "execution_count": null,
      "outputs": []
    },
    {
      "cell_type": "markdown",
      "source": [
        "## These are our configurable parameters\n",
        "\n",
        "We will walk from `prompt1` to `prompt2`."
      ],
      "metadata": {
        "id": "LVNnRKC3AYJ_"
      }
    },
    {
      "cell_type": "code",
      "source": [
        "prompt_1 = \"Mysterious ruins in the snow, concept art, digital, artstation\"\n",
        "prompt_2 = \"Mysterious ruins in the summer sunlight, concept art, digital, artstation\"\n",
        "interpolation_steps = 50\n",
        "filename = \"ruins_1.gif\""
      ],
      "metadata": {
        "id": "SPECIuQvAYSn"
      },
      "execution_count": null,
      "outputs": []
    },
    {
      "cell_type": "markdown",
      "source": [
        "## Now let's generate"
      ],
      "metadata": {
        "id": "Vk5eUkljAisU"
      }
    },
    {
      "cell_type": "code",
      "execution_count": null,
      "metadata": {
        "colab": {
          "base_uri": "https://localhost:8080/"
        },
        "id": "Goa_4X1f_JZ-",
        "outputId": "64543505-7810-42a0-e15e-14aeeac8744b"
      },
      "outputs": [
        {
          "output_type": "stream",
          "name": "stdout",
          "text": [
            "25/25 [==============================] - 9s 339ms/step\n",
            "25/25 [==============================] - 9s 340ms/step\n",
            "25/25 [==============================] - 8s 339ms/step\n",
            "25/25 [==============================] - 8s 339ms/step\n",
            "25/25 [==============================] - 8s 339ms/step\n"
          ]
        }
      ],
      "source": [
        "encoding_1 = tf.squeeze(model.encode_text(prompt_1))\n",
        "encoding_2 = tf.squeeze(model.encode_text(prompt_2))\n",
        "\n",
        "batch_size = 10 # This value might to be lowered to 3 on a smaller GPU.\n",
        "batches = interpolation_steps // batch_size\n",
        "\n",
        "interpolated_encodings = tf.linspace(encoding_1, encoding_2, interpolation_steps)\n",
        "batched_encodings = tf.split(interpolated_encodings, batches)\n",
        "\n",
        "seed = 1337\n",
        "noise = tf.random.normal((512 // 8, 512 // 8, 4), seed=seed)\n",
        "\n",
        "images = []\n",
        "for batch in range(batches):\n",
        "    images += [\n",
        "        Image.fromarray(img)\n",
        "        for img in model.generate_image(\n",
        "            batched_encodings[batch],\n",
        "            batch_size=batch_size,\n",
        "            num_steps=25,\n",
        "            diffusion_noise=noise,\n",
        "        )\n",
        "    ]\n",
        "\n",
        "export_as_gif(filename, images, rubber_band=True)"
      ]
    },
    {
      "cell_type": "markdown",
      "source": [
        "To see the generated gif, look for the file browser tab on your left."
      ],
      "metadata": {
        "id": "mPURrGgxBX_a"
      }
    }
  ]
}